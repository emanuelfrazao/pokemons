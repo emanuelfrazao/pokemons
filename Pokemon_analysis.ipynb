{
 "cells": [
  {
   "cell_type": "markdown",
   "metadata": {
    "id": "9DhiaZxSMF8W"
   },
   "source": [
    "#Pokemons:  apanhá-los todos!\r\n",
    "\r\n",
    "\r\n",
    "<img src='https://drive.google.com/uc?id=1T3m3yy2zHs-HDsNxhmXoiJpT52Pqs9C4' width=300>"
   ]
  },
  {
   "cell_type": "markdown",
   "metadata": {
    "id": "xVW3mfenXKDF"
   },
   "source": [
    "## Interpretação do problema\r\n",
    "\r\n",
    "\r\n"
   ]
  },
  {
   "cell_type": "markdown",
   "metadata": {
    "id": "h1w9xh9lNuM0"
   },
   "source": [
    "Dados uma grelha infinita bidimensional, uma posição inicial e instruções de direcções sequenciais que determinam um caminho, calcular o número de posições na grelha pelos quais o caminho passa (incluindo a inicial)."
   ]
  },
  {
   "cell_type": "markdown",
   "metadata": {
    "id": "-izSpi3EN0_0"
   },
   "source": [
    "## Considerações teóricas"
   ]
  },
  {
   "cell_type": "markdown",
   "metadata": {
    "id": "RzZ-wBYXPjmM"
   },
   "source": [
    "### Problemas a resolver"
   ]
  },
  {
   "cell_type": "markdown",
   "metadata": {
    "id": "ffNITmdmN_BC"
   },
   "source": [
    "1.   escolher estrutura de dados para **representar as posições na grelha**, atendendo a:\r\n",
    "    *   eficiência da actualização da posição;\r\n",
    "    *   correspondência entre as direcções dadas ('N','S','E','O') e as instruções para a alteração da posição actual.\r\n",
    "\r\n",
    "\r\n",
    "\r\n",
    "2.   escolher estrutura de dados para **registar as posições vistas**, atendendo a:\r\n",
    "    *   poder registar número arbitrário de posições;\r\n",
    "    *   tempo de inserção de uma posição e tempo de pesquisa;\r\n",
    "    *   se é possível registar a posição na estrutura de dados escolhida em (1.), e quão eficiente é."
   ]
  },
  {
   "cell_type": "markdown",
   "metadata": {
    "id": "W0iYvsnsviwa"
   },
   "source": [
    "### Possibilidades (mais eficientes) exploradas\r\n",
    "\r\n"
   ]
  },
  {
   "cell_type": "markdown",
   "metadata": {
    "id": "QLr5oIB8OQ8v"
   },
   "source": [
    "#### Representação das posições na grelha:"
   ]
  },
  {
   "cell_type": "markdown",
   "metadata": {
    "id": "FlOVLXOGOTpF"
   },
   "source": [
    "1.   `tuples`:\r\n",
    "    *   hashable - funcionam como `key` para um `dict` ou como elementos de um `set`;\r\n",
    "    *   lento a actualizar a posição (não é possível incrementar directamente uma das componentes).\r\n",
    "2.   `lists` (arrays):\r\n",
    "    *   o mais rápido a actualizar a posição (como é mutável, permite incrementação directa da componente);\r\n",
    "    *   não é hashable nas estruturas de dados do python.\r\n",
    "3.   `numpy arrays`:\r\n",
    "    *   rápido a actualizar a posição (com soma directa);\r\n",
    "    *   não é hashable."
   ]
  },
  {
   "cell_type": "markdown",
   "metadata": {
    "id": "1aaeItFjOWKn"
   },
   "source": [
    "#### Representação das posições vistas:"
   ]
  },
  {
   "cell_type": "markdown",
   "metadata": {
    "id": "B_qPhYGkOcWR"
   },
   "source": [
    "1.   *hash table* (`dict` e `set` no python):\r\n",
    "    *   insere uma nova posição rapidíssimo: tempo médio `O(1)` para `sets` com até pelo menos `10^9` elementos; e pior caso `O(n)` no tamanho atual da tabela (a partir de um certo nº de elementos);\r\n",
    "    *   permite registar uma posição sem ter que verificar se está presente (faz override);\r\n",
    "    *   só permite registar tipos de dados *hashable* (`int`, `tuple`, `string`);\r\n",
    "    *   usa espaço `O(n)` na quantidade total de posições vistas.\r\n",
    "\r\n",
    "2.   *binary search tree*:\r\n",
    "    *   insere uma nova posição muito *muito* lentamente: tempo médio `O(log(n))` e pior caso `O(n)` (por exemplo, se for sempre para cima: 'NNNNNN') no tamanho atual da árvore;\r\n",
    "    *   permite registar uma posição aquando de verificar se está presente\r\n",
    "    *   permite registar quaisquer tipos de dados, mas a implementação depende de como se comparam os tipos de dados\r\n",
    "    *   usa espaço `O(n)` na quantidade total de posições vistas, mas uma implementação recursiva pode explodir a *maximum recursion depth*."
   ]
  },
  {
   "cell_type": "markdown",
   "metadata": {
    "id": "kmwvRj45W7hy"
   },
   "source": [
    "## Algoritmos"
   ]
  },
  {
   "cell_type": "markdown",
   "metadata": {
    "id": "t5Dn12TMZZip"
   },
   "source": [
    "### Módulos importados"
   ]
  },
  {
   "cell_type": "code",
   "execution_count": 4,
   "metadata": {
    "id": "oHpzjKkVHPuE"
   },
   "outputs": [
    {
     "name": "stderr",
     "output_type": "stream",
     "text": [
      "Matplotlib is building the font cache; this may take a moment.\n"
     ]
    }
   ],
   "source": [
    "import random\r\n",
    "import math\r\n",
    "import numpy as np\r\n",
    "import time\r\n",
    "import matplotlib.pyplot as plt"
   ]
  },
  {
   "cell_type": "markdown",
   "metadata": {
    "id": "7fKc93ErZMpS"
   },
   "source": [
    "### Classes e funções auxiliares"
   ]
  },
  {
   "cell_type": "markdown",
   "metadata": {
    "id": "po96eT-wZtnr"
   },
   "source": [
    "#### Binary search tree"
   ]
  },
  {
   "cell_type": "code",
   "execution_count": 5,
   "metadata": {
    "id": "pQZk0vP-Qz3L"
   },
   "outputs": [],
   "source": [
    "class Node:\n",
    "    \"\"\"\n",
    "    Represents a node in a binary search tree with directly comparable data.\n",
    "    \"\"\"\n",
    "\n",
    "    def __init__(self, data):\n",
    "\n",
    "        self.left = None\n",
    "        self.right = None\n",
    "        self.data = data\n",
    "\n",
    "    def insert(self, data):\n",
    "        \"\"\"\n",
    "        Inserts a new data value in either the node or in one of its descendants.\n",
    "        The algorithm keeps the node descendants' tree well formed (as a binary search tree).\n",
    "        \"\"\"\n",
    "        if self.data:\n",
    "            if data < self.data:\n",
    "\n",
    "                # Insert data in left subtree, recursively\n",
    "                if self.left is None:\n",
    "                    self.left = Node(data)\n",
    "                else:\n",
    "                    self.left.insert(data)\n",
    "\n",
    "            elif data > self.data:\n",
    "\n",
    "                # Insert data in right subtree, recursively\n",
    "                if self.right is None:\n",
    "                    self.right = Node(data)\n",
    "                else:\n",
    "                    self.right.insert(data)\n",
    "        else:\n",
    "            self.data = data\n",
    "\n",
    "    \n",
    "    def print_tree(self):\n",
    "        \"\"\"\n",
    "        Prints the node descendants' tree in order.\n",
    "        \"\"\"\n",
    "        if self.left:\n",
    "            self.left.print_tree()\n",
    "        print( self.data),\n",
    "        if self.right:\n",
    "            self.right.print_tree()\n",
    "\n",
    "    \n",
    "    def get_number_of_descendants(self):\n",
    "        \"\"\"\n",
    "        Counts the number of descendants of the node (including itself).\n",
    "        \"\"\"\n",
    "\n",
    "        return 1 + (self.left.get_number_of_descendants() if self.left else 0) + (self.right.get_number_of_descendants() if self.right else 0)"
   ]
  },
  {
   "cell_type": "markdown",
   "metadata": {
    "id": "Ry9hL7bbfZvP"
   },
   "source": [
    "#### Adição de tuples 2D\r\n",
    "\r\n",
    "\r\n"
   ]
  },
  {
   "cell_type": "code",
   "execution_count": 6,
   "metadata": {
    "id": "xhiqleTYflyy"
   },
   "outputs": [],
   "source": [
    "def add_2D_vectors(a,b):\r\n",
    "    return (a[0] + b[0], a[1] + b[1])"
   ]
  },
  {
   "cell_type": "markdown",
   "metadata": {
    "id": "LGUJgEBUggq4"
   },
   "source": [
    "#### Criação de caminho aleatório"
   ]
  },
  {
   "cell_type": "code",
   "execution_count": 7,
   "metadata": {
    "id": "CP1caR7wgsCn"
   },
   "outputs": [],
   "source": [
    "def random_string_generator(length):\r\n",
    "    \"\"\"\r\n",
    "    Generates a string comprised of 'N', 'E', 'S', 'O', with a given length.\r\n",
    "    \"\"\"\r\n",
    "    return \"\".join(random.choices('NSOE', k=length))"
   ]
  },
  {
   "cell_type": "markdown",
   "metadata": {
    "id": "QOBkARrffAay"
   },
   "source": [
    "### Classe principal"
   ]
  },
  {
   "cell_type": "markdown",
   "metadata": {
    "id": "ooDI4Oyie1aY"
   },
   "source": [
    "#### Grelha e algoritmos de contagem\r\n",
    "\r\n",
    "\r\n",
    ">Notas:\r\n",
    ">*   Cada método da classe (são 6) é um algoritmo para resolver o mesmo problema.\r\n",
    ">*   O método da solução final apresentada é o `hierarchical_hashing_direct_algorithm()`\r\n",
    "\r\n",
    "\r\n",
    "\r\n",
    "\r\n",
    "\r\n",
    "\r\n",
    "\r\n",
    "    \r\n",
    "\r\n",
    "\r\n"
   ]
  },
  {
   "cell_type": "code",
   "execution_count": 8,
   "metadata": {
    "id": "0dsnDY4pL5Zy"
   },
   "outputs": [],
   "source": [
    "class Grid:\n",
    "    \"\"\"\n",
    "    Represents a 2D infinite grid and a given path.\n",
    "    \"\"\"\n",
    "    def __init__(self, path):\n",
    "\n",
    "        self.initialPosition = (0,0)\n",
    "\n",
    "        self.vector_directions = {\n",
    "            'N': (0,1),\n",
    "            'S': (0,-1),\n",
    "            'E': (1,0),\n",
    "            'O': (-1,0)\n",
    "        }\n",
    "        \n",
    "        self.indexed_directions = {\n",
    "            'N': (1,1),\n",
    "            'S': (1,-1),\n",
    "            'E': (0,1),\n",
    "            'O': (0,-1)\n",
    "        }\n",
    "\n",
    "        self.numpy_directions = {\n",
    "            'N': np.array((0,1)),\n",
    "            'S': np.array((0,-1)),\n",
    "            'E': np.array((1,0)),\n",
    "            'O': np.array((-1,0))\n",
    "        }\n",
    "        \n",
    "        self.path = path\n",
    "    \n",
    "\n",
    "    def hashing_naive_algorithm(self):\n",
    "        \"\"\"\n",
    "        Counts the number of seen positions.\n",
    "\n",
    "        The current position is represented as a tuple.\n",
    "        A new position is obtained by adding two vectors (with the direction as a vector).\n",
    "        The seen positions are registered with a set whose elements are the positions themselves.\n",
    "        \"\"\"\n",
    "\n",
    "        current = self.initialPosition\n",
    "        seenPositions = {current}\n",
    "\n",
    "        for move in self.path:\n",
    "\n",
    "            # Update position\n",
    "            current = add_2D_vectors(current, self.vector_directions[move])\n",
    "\n",
    "            # Register position\n",
    "            seenPositions.add(current)\n",
    "\n",
    "        return len(seenPositions)\n",
    "\n",
    "\n",
    "    def hashing_direct_algorithm(self):\n",
    "        \"\"\"\n",
    "        Counts the number of seen positions.\n",
    "\n",
    "        The current position is represented as a list.\n",
    "        A new position is obtained by incrementing the coordinate (x or y) with the unit of movement (1 or -1) (with the direction as the instruction).\n",
    "        The seen positions are registered with a set whose elements are the tuple representation of the positions.\n",
    "        \"\"\"\n",
    "\n",
    "        current = list(self.initialPosition)\n",
    "        seenPositions = {self.initialPosition}\n",
    "\n",
    "        for move in self.path:\n",
    "\n",
    "            # Update position\n",
    "            dir, unit = self.indexed_directions[move]\n",
    "            current[dir] += unit\n",
    "\n",
    "            # Register position\n",
    "            seenPositions.add(tuple(current))\n",
    "        \n",
    "        return len(seenPositions)\n",
    "\n",
    "    def hierarchical_hashing_naive_algorithm(self):\n",
    "        \"\"\"\n",
    "        Counts the number of seen positions.\n",
    "\n",
    "        The current position is represented as a tuple.\n",
    "        A new position is obtained by adding two vectors (with the direction as a vector).\n",
    "        The seen positions are registered with a dictionary such that:\n",
    "            each key corresponds to a column with seen positions;\n",
    "\t\t\teach value corresponds to the set of rows of seen positions in the respective column (key).\n",
    "        \"\"\"\n",
    "\n",
    "        current = self.initialPosition\n",
    "        seenPositions = {current[0]: {current[1]}}\n",
    "\n",
    "        for move in self.path:\n",
    "\n",
    "            # Update position\n",
    "            current = add_2D_vectors(current, self.vector_directions[move])\n",
    "\n",
    "            # Register position\n",
    "            if current[0] not in seenPositions:\n",
    "                seenPositions[current[0]] = {current[1]}\n",
    "            else:\n",
    "                seenPositions[current[0]].add(current[1])\n",
    "        \n",
    "        return sum([len(s) for s in seenPositions.values()])\n",
    "\n",
    "\n",
    "    # Fastest algorithm\n",
    "    def hierarchical_hashing_direct_algorithm(self):\n",
    "        \"\"\"\n",
    "        Counts the number of seen positions.\n",
    "\n",
    "        The current position is represented as a list.\n",
    "        A new position is obtained by incrementing the coordinate (x or y) with the unit of movement (1 or -1) (with the direction as the instruction).\n",
    "        The seen positions are registered with a dictionary such that:\n",
    "            each key corresponds to a column with seen positions;\n",
    "\t\t\teach value corresponds to the set of rows of seen positions in the respective column (key).\n",
    "        \"\"\"\n",
    "\n",
    "        current = list(self.initialPosition)\n",
    "        seenPositions = {current[0]: {current[1]}}\n",
    "\n",
    "        for move in self.path:\n",
    "\n",
    "            # Update position\n",
    "            dir, unit = self.indexed_directions[move]\n",
    "            current[dir] += unit\n",
    "\n",
    "            # Register position\n",
    "            if current[0] not in seenPositions:\n",
    "                seenPositions[current[0]] = {current[1]}\n",
    "            else:\n",
    "                seenPositions[current[0]].add(current[1])\n",
    "        \n",
    "        return sum([len(s) for s in seenPositions.values()])\n",
    "\n",
    "\n",
    "    def hierarchical_hashing_numpy_algorithm(self):\n",
    "        \"\"\"\n",
    "        Counts the number of seen positions.\n",
    "\n",
    "        The current position is represented as a numpy array.\n",
    "        A new position is obtained by adding two numpy arrays (with the direction as a numpy array).\n",
    "        The seen positions are registered with a dictionary such that:\n",
    "            each key corresponds to a column with seen positions;\n",
    "\t\t\teach value corresponds to the set of rows of seen positions in the respective column (key).\n",
    "        \"\"\"\n",
    "\n",
    "        current = np.array(self.initialPosition)\n",
    "        seenPositions = {current[0]: {current[1]}}\n",
    "\n",
    "        for move in self.path:\n",
    "\n",
    "            # Update position\n",
    "            current += self.numpy_directions[move]\n",
    "\n",
    "            # Register position\n",
    "            if current[0] not in seenPositions:\n",
    "                seenPositions[current[0]] = {current[1]}\n",
    "            else:\n",
    "                seenPositions[current[0]].add(current[1])\n",
    "\n",
    "        return sum([len(s) for s in seenPositions.values()])\n",
    "\n",
    "\n",
    "    # By far the slowest algorithm\n",
    "    def bst_direct_algorithm(self):\n",
    "        \"\"\"\n",
    "        Counts the number of seen positions.\n",
    "\n",
    "        The current position is represented as a list.\n",
    "        A new position is obtained by incrementing the coordinate (x or y) with the unit of movement (1 or -1) (with the direction as the instruction).\n",
    "        The seen positions (as tuples) are registered as the values in the nodes of a binary search tree with the initial position as the root.\n",
    "        \"\"\"\n",
    "\n",
    "        current = list(self.initialPosition)\n",
    "        root = Node(self.initialPosition)\n",
    "\n",
    "        for move in self.path:\n",
    "            \n",
    "            # Update position\n",
    "            dir, unit = self.indexed_directions[move]\n",
    "            current[dir] += unit\n",
    "\n",
    "            # Register position\n",
    "            root.insert(tuple(current))\n",
    "\n",
    "        return root.get_number_of_descendants()"
   ]
  },
  {
   "cell_type": "markdown",
   "metadata": {
    "id": "FDH0fpnsrMDK"
   },
   "source": [
    "## Análise de tempo"
   ]
  },
  {
   "cell_type": "markdown",
   "metadata": {
    "id": "UzECD5NYu3R8"
   },
   "source": [
    "### Preparação de dados"
   ]
  },
  {
   "cell_type": "markdown",
   "metadata": {
    "id": "n7ue2f6ixEYn"
   },
   "source": [
    "#### Criação de caminhos aleatórios\r\n",
    ">Nota: 30 caminhos com comprimentos igualmente espaçados entre `10` e `10^8`"
   ]
  },
  {
   "cell_type": "code",
   "execution_count": 9,
   "metadata": {
    "id": "TWKxfWZuMrWT"
   },
   "outputs": [],
   "source": [
    "paths = [random_string_generator(int(np.floor(i))) for i in np.linspace(10,10**8,30)]"
   ]
  },
  {
   "cell_type": "code",
   "execution_count": 10,
   "metadata": {
    "id": "_6I0MUol9vbr"
   },
   "outputs": [],
   "source": [
    "lengths = [len(p) for p in paths]"
   ]
  },
  {
   "cell_type": "markdown",
   "metadata": {
    "id": "WBSxZSJ_xST5"
   },
   "source": [
    "#### Obtenção das métricas de cada algoritmo"
   ]
  },
  {
   "cell_type": "code",
   "execution_count": 11,
   "metadata": {
    "id": "Xf3-rff90OIT"
   },
   "outputs": [],
   "source": [
    "alg_metrics = {}"
   ]
  },
  {
   "cell_type": "markdown",
   "metadata": {
    "id": "hmoFFRF4xneW"
   },
   "source": [
    "```\r\n",
    "1. hashing_naive_algorithm\r\n",
    "```"
   ]
  },
  {
   "cell_type": "code",
   "execution_count": 12,
   "metadata": {
    "id": "po7Sz2gVMtoO"
   },
   "outputs": [],
   "source": [
    "alg_metrics['hashing_naive'] = {\n",
    "    'n':[],\n",
    "    'time':[]\n",
    "}\n",
    "for p in paths:\n",
    "    grid = Grid(p)\n",
    "    start = time.time()\n",
    "    n = grid.hashing_naive_algorithm()\n",
    "    end = time.time()\n",
    "    alg_metrics['hashing_naive']['n'].append(n)\n",
    "    alg_metrics['hashing_naive']['time'].append(end-start)"
   ]
  },
  {
   "cell_type": "markdown",
   "metadata": {
    "id": "q2OSnkv1xz76"
   },
   "source": [
    "```\r\n",
    "2. hashing_direct_algorithm\r\n",
    "```\r\n",
    "\r\n"
   ]
  },
  {
   "cell_type": "code",
   "execution_count": 13,
   "metadata": {
    "id": "fWptYJbONDMW"
   },
   "outputs": [],
   "source": [
    "alg_metrics['hashing_direct'] = {\n",
    "    'n':[],\n",
    "    'time':[]\n",
    "}\n",
    "for p in paths:\n",
    "    grid = Grid(p)\n",
    "    start = time.time()\n",
    "    n = grid.hashing_direct_algorithm()\n",
    "    end = time.time()\n",
    "    alg_metrics['hashing_direct']['n'].append(n)\n",
    "    alg_metrics['hashing_direct']['time'].append(end-start)"
   ]
  },
  {
   "cell_type": "markdown",
   "metadata": {
    "id": "xD8-2Nz1yMp-"
   },
   "source": [
    "```\r\n",
    "3. hierarchical_hashing_naive_algorithm\r\n",
    "```"
   ]
  },
  {
   "cell_type": "code",
   "execution_count": null,
   "metadata": {
    "id": "vuJMKCz6MwWR"
   },
   "outputs": [],
   "source": [
    "alg_metrics['hierarchical_hashing_naive'] = {\n",
    "    'n':[],\n",
    "    'time':[]\n",
    "}\n",
    "for p in paths:\n",
    "    grid = Grid(p)\n",
    "    start = time.time()\n",
    "    n = grid.hierarchical_hashing_naive_algorithm()\n",
    "    end = time.time()\n",
    "    alg_metrics['hierarchical_hashing_naive']['n'].append(n)\n",
    "    alg_metrics['hierarchical_hashing_naive']['time'].append(end-start)"
   ]
  },
  {
   "cell_type": "markdown",
   "metadata": {
    "id": "QxW8-qu4ySjU"
   },
   "source": [
    "```\r\n",
    "4. hierarchical_hashing_direct_algorithm\r\n",
    "```"
   ]
  },
  {
   "cell_type": "code",
   "execution_count": null,
   "metadata": {
    "id": "a5qIbCNhNyEh"
   },
   "outputs": [],
   "source": [
    "alg_metrics['hierarchical_hashing_direct'] = {\n",
    "    'n':[],\n",
    "    'time':[]\n",
    "}\n",
    "for p in paths:\n",
    "    grid = Grid(p)\n",
    "    start = time.time()\n",
    "    n = grid.hierarchical_hashing_direct_algorithm()\n",
    "    end = time.time()\n",
    "    alg_metrics['hierarchical_hashing_direct']['n'].append(n)\n",
    "    alg_metrics['hierarchical_hashing_direct']['time'].append(end-start)"
   ]
  },
  {
   "cell_type": "markdown",
   "metadata": {
    "id": "oyTVX0OEya_l"
   },
   "source": [
    "```\r\n",
    "5. hierarchical_hashing_numpy_algorithm\r\n",
    "```"
   ]
  },
  {
   "cell_type": "code",
   "execution_count": null,
   "metadata": {
    "id": "E083QyKqRsZn"
   },
   "outputs": [],
   "source": [
    "alg_metrics['hierarchical_hashing_numpy'] = {\n",
    "    'n':[],\n",
    "    'time':[]\n",
    "}\n",
    "for p in paths[:9]:\n",
    "    grid = Grid(p)\n",
    "    start = time.time()\n",
    "    n = grid.hierarchical_hashing_numpy_algorithm()\n",
    "    end = time.time()\n",
    "    alg_metrics['hierarchical_hashing_numpy']['n'].append(n)\n",
    "    alg_metrics['hierarchical_hashing_numpy']['time'].append(end-start)"
   ]
  },
  {
   "cell_type": "markdown",
   "metadata": {
    "id": "qbdpARjEym7n"
   },
   "source": [
    "```\r\n",
    "6. bst_direct_algorithm\r\n",
    "```\r\n",
    "> Nota: explode logo para caminhos de comprimento `10^7` (para os que consegue correr, é muito mais lento que os outros)."
   ]
  },
  {
   "cell_type": "code",
   "execution_count": null,
   "metadata": {
    "colab": {
     "base_uri": "https://localhost:8080/",
     "height": 431
    },
    "id": "hh7FnGIaM7mV",
    "outputId": "006ac1fb-4a9f-42df-a0c4-11198405c962"
   },
   "outputs": [],
   "source": [
    "alg_metrics['bst'] = {\n",
    "    'n':[],\n",
    "    'time':[]\n",
    "}\n",
    "for p in paths[0]:\n",
    "    grid = Grid(p)\n",
    "    start = time.time()\n",
    "    n = grid.bst_direct_algorithm()\n",
    "    end = time.time()\n",
    "    alg_metrics['bst']['n'].append(n)\n",
    "    alg_metrics['bst']['time'].append(end-start)"
   ]
  },
  {
   "cell_type": "markdown",
   "metadata": {
    "id": "Nn0xe0Gjy6P7"
   },
   "source": [
    "### Comparação de algoritmos"
   ]
  },
  {
   "cell_type": "code",
   "execution_count": null,
   "metadata": {
    "id": "ZYIbVhG0R9R9"
   },
   "outputs": [],
   "source": [
    "plt.plot(lengths, alg_metrics['hashing_naive']['time'], label = 'Naive Hash')\n",
    "plt.plot(lengths, alg_metrics['hashing_direct']['time'], label = 'Direct Hash')\n",
    "plt.plot(lengths, alg_metrics['hierarchical_hashing_naive']['time'], label = 'Naive Hierarchical Hash')\n",
    "plt.plot(lengths, alg_metrics['hierarchical_hashing_direct']['time'], label = 'Direct Hierarchical Hash')\n",
    "plt.plot(lengths[:9], alg_metrics['hierarchical_hashing_numpy']['time'], label = 'Numpy Hierarchical Hash')\n",
    "plt.legent()\n",
    "plt.xlabel('Length of path')\n",
    "plt.ylabel('Time (s)')\n",
    "plt.title(\"Running time by path's length\")\n",
    "plt.show()"
   ]
  },
  {
   "cell_type": "code",
   "execution_count": null,
   "metadata": {},
   "outputs": [],
   "source": []
  }
 ],
 "metadata": {
  "colab": {
   "collapsed_sections": [],
   "name": "Pokemon_analysis.ipynb",
   "provenance": [],
   "toc_visible": true
  },
  "kernelspec": {
   "display_name": "Python 3",
   "language": "python",
   "name": "python3"
  },
  "language_info": {
   "codemirror_mode": {
    "name": "ipython",
    "version": 3
   },
   "file_extension": ".py",
   "mimetype": "text/x-python",
   "name": "python",
   "nbconvert_exporter": "python",
   "pygments_lexer": "ipython3",
   "version": "3.7.9"
  }
 },
 "nbformat": 4,
 "nbformat_minor": 4
}
